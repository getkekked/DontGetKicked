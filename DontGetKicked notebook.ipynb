{
 "cells": [
  {
   "cell_type": "code",
   "execution_count": 1,
   "id": "92115d87",
   "metadata": {},
   "outputs": [],
   "source": [
    "import pandas as pd\n",
    "import numpy as np\n",
    "import matplotlib.pyplot as plt\n",
    "import seaborn as sns\n",
    "import sklearn.metrics as metrics\n",
    "from sklearn.model_selection import ParameterGrid\n",
    "from sklearn.tree import DecisionTreeClassifier\n",
    "from sklearn.ensemble import RandomForestClassifier\n",
    "from sklearn.ensemble import GradientBoostingClassifier\n",
    "from sklearn.model_selection import train_test_split\n",
    "from sklearn import preprocessing\n",
    "from sklearn.metrics import accuracy_score\n",
    "from sklearn.model_selection import GridSearchCV\n",
    "from imblearn.over_sampling import RandomOverSampler\n",
    "from sklearn.metrics import confusion_matrix\n",
    "from sklearn.metrics import ConfusionMatrixDisplay\n",
    "from sklearn.metrics import recall_score\n",
    "from sklearn.metrics import f1_score"
   ]
  },
  {
   "cell_type": "code",
   "execution_count": 42,
   "id": "7610b61f",
   "metadata": {},
   "outputs": [],
   "source": [
    "train = pd.read_csv(\"training.csv\")\n",
    "test = pd.read_csv(\"test.csv\")"
   ]
  },
  {
   "cell_type": "code",
   "execution_count": 43,
   "id": "f037bead",
   "metadata": {},
   "outputs": [
    {
     "name": "stdout",
     "output_type": "stream",
     "text": [
      "<class 'pandas.core.frame.DataFrame'>\n",
      "RangeIndex: 72983 entries, 0 to 72982\n",
      "Data columns (total 34 columns):\n",
      " #   Column                             Non-Null Count  Dtype  \n",
      "---  ------                             --------------  -----  \n",
      " 0   RefId                              72983 non-null  int64  \n",
      " 1   IsBadBuy                           72983 non-null  int64  \n",
      " 2   PurchDate                          72983 non-null  object \n",
      " 3   Auction                            72983 non-null  object \n",
      " 4   VehYear                            72983 non-null  int64  \n",
      " 5   VehicleAge                         72983 non-null  int64  \n",
      " 6   Make                               72983 non-null  object \n",
      " 7   Model                              72983 non-null  object \n",
      " 8   Trim                               70623 non-null  object \n",
      " 9   SubModel                           72975 non-null  object \n",
      " 10  Color                              72975 non-null  object \n",
      " 11  Transmission                       72974 non-null  object \n",
      " 12  WheelTypeID                        69814 non-null  float64\n",
      " 13  WheelType                          69809 non-null  object \n",
      " 14  VehOdo                             72983 non-null  int64  \n",
      " 15  Nationality                        72978 non-null  object \n",
      " 16  Size                               72978 non-null  object \n",
      " 17  TopThreeAmericanName               72978 non-null  object \n",
      " 18  MMRAcquisitionAuctionAveragePrice  72965 non-null  float64\n",
      " 19  MMRAcquisitionAuctionCleanPrice    72965 non-null  float64\n",
      " 20  MMRAcquisitionRetailAveragePrice   72965 non-null  float64\n",
      " 21  MMRAcquisitonRetailCleanPrice      72965 non-null  float64\n",
      " 22  MMRCurrentAuctionAveragePrice      72668 non-null  float64\n",
      " 23  MMRCurrentAuctionCleanPrice        72668 non-null  float64\n",
      " 24  MMRCurrentRetailAveragePrice       72668 non-null  float64\n",
      " 25  MMRCurrentRetailCleanPrice         72668 non-null  float64\n",
      " 26  PRIMEUNIT                          3419 non-null   object \n",
      " 27  AUCGUART                           3419 non-null   object \n",
      " 28  BYRNO                              72983 non-null  int64  \n",
      " 29  VNZIP1                             72983 non-null  int64  \n",
      " 30  VNST                               72983 non-null  object \n",
      " 31  VehBCost                           72983 non-null  float64\n",
      " 32  IsOnlineSale                       72983 non-null  int64  \n",
      " 33  WarrantyCost                       72983 non-null  int64  \n",
      "dtypes: float64(10), int64(9), object(15)\n",
      "memory usage: 18.9+ MB\n"
     ]
    }
   ],
   "source": [
    "train.info()"
   ]
  },
  {
   "cell_type": "code",
   "execution_count": 45,
   "id": "e24ae205",
   "metadata": {},
   "outputs": [
    {
     "data": {
      "text/plain": [
       "RefId                                    0\n",
       "IsBadBuy                                 0\n",
       "PurchDate                                0\n",
       "Auction                                  0\n",
       "VehYear                                  0\n",
       "VehicleAge                               0\n",
       "Make                                     0\n",
       "Model                                    0\n",
       "Trim                                  2360\n",
       "SubModel                                 8\n",
       "Color                                    8\n",
       "Transmission                             9\n",
       "WheelTypeID                           3169\n",
       "WheelType                             3174\n",
       "VehOdo                                   0\n",
       "Nationality                              5\n",
       "Size                                     5\n",
       "TopThreeAmericanName                     5\n",
       "MMRAcquisitionAuctionAveragePrice       18\n",
       "MMRAcquisitionAuctionCleanPrice         18\n",
       "MMRAcquisitionRetailAveragePrice        18\n",
       "MMRAcquisitonRetailCleanPrice           18\n",
       "MMRCurrentAuctionAveragePrice          315\n",
       "MMRCurrentAuctionCleanPrice            315\n",
       "MMRCurrentRetailAveragePrice           315\n",
       "MMRCurrentRetailCleanPrice             315\n",
       "PRIMEUNIT                            69564\n",
       "AUCGUART                             69564\n",
       "BYRNO                                    0\n",
       "VNZIP1                                   0\n",
       "VNST                                     0\n",
       "VehBCost                                 0\n",
       "IsOnlineSale                             0\n",
       "WarrantyCost                             0\n",
       "dtype: int64"
      ]
     },
     "execution_count": 45,
     "metadata": {},
     "output_type": "execute_result"
    }
   ],
   "source": [
    "train.isna().sum()"
   ]
  },
  {
   "cell_type": "code",
   "execution_count": 46,
   "id": "983a8c3b",
   "metadata": {},
   "outputs": [
    {
     "data": {
      "text/html": [
       "<div>\n",
       "<style scoped>\n",
       "    .dataframe tbody tr th:only-of-type {\n",
       "        vertical-align: middle;\n",
       "    }\n",
       "\n",
       "    .dataframe tbody tr th {\n",
       "        vertical-align: top;\n",
       "    }\n",
       "\n",
       "    .dataframe thead th {\n",
       "        text-align: right;\n",
       "    }\n",
       "</style>\n",
       "<table border=\"1\" class=\"dataframe\">\n",
       "  <thead>\n",
       "    <tr style=\"text-align: right;\">\n",
       "      <th></th>\n",
       "      <th>VehYear</th>\n",
       "      <th>VehicleAge</th>\n",
       "    </tr>\n",
       "  </thead>\n",
       "  <tbody>\n",
       "    <tr>\n",
       "      <th>VehYear</th>\n",
       "      <td>1.000000</td>\n",
       "      <td>-0.957957</td>\n",
       "    </tr>\n",
       "    <tr>\n",
       "      <th>VehicleAge</th>\n",
       "      <td>-0.957957</td>\n",
       "      <td>1.000000</td>\n",
       "    </tr>\n",
       "  </tbody>\n",
       "</table>\n",
       "</div>"
      ],
      "text/plain": [
       "             VehYear  VehicleAge\n",
       "VehYear     1.000000   -0.957957\n",
       "VehicleAge -0.957957    1.000000"
      ]
     },
     "execution_count": 46,
     "metadata": {},
     "output_type": "execute_result"
    }
   ],
   "source": [
    "train[[\"VehYear\", \"VehicleAge\"]].corr()"
   ]
  },
  {
   "cell_type": "markdown",
   "id": "e17a6826",
   "metadata": {},
   "source": [
    "_No need to keep both features as they describe the same charateristic of the vehicle_"
   ]
  },
  {
   "cell_type": "code",
   "execution_count": 47,
   "id": "5b15b346",
   "metadata": {
    "scrolled": true
   },
   "outputs": [
    {
     "data": {
      "text/html": [
       "<div>\n",
       "<style scoped>\n",
       "    .dataframe tbody tr th:only-of-type {\n",
       "        vertical-align: middle;\n",
       "    }\n",
       "\n",
       "    .dataframe tbody tr th {\n",
       "        vertical-align: top;\n",
       "    }\n",
       "\n",
       "    .dataframe thead th {\n",
       "        text-align: right;\n",
       "    }\n",
       "</style>\n",
       "<table border=\"1\" class=\"dataframe\">\n",
       "  <thead>\n",
       "    <tr style=\"text-align: right;\">\n",
       "      <th></th>\n",
       "      <th>MMRAcquisitionAuctionAveragePrice</th>\n",
       "      <th>MMRAcquisitionAuctionCleanPrice</th>\n",
       "      <th>MMRAcquisitionRetailAveragePrice</th>\n",
       "      <th>MMRAcquisitonRetailCleanPrice</th>\n",
       "      <th>MMRCurrentAuctionAveragePrice</th>\n",
       "      <th>MMRCurrentAuctionCleanPrice</th>\n",
       "      <th>MMRCurrentRetailAveragePrice</th>\n",
       "    </tr>\n",
       "  </thead>\n",
       "  <tbody>\n",
       "    <tr>\n",
       "      <th>MMRAcquisitionAuctionAveragePrice</th>\n",
       "      <td>1.000000</td>\n",
       "      <td>0.990347</td>\n",
       "      <td>0.910391</td>\n",
       "      <td>0.910187</td>\n",
       "      <td>0.937817</td>\n",
       "      <td>0.932492</td>\n",
       "      <td>0.871755</td>\n",
       "    </tr>\n",
       "    <tr>\n",
       "      <th>MMRAcquisitionAuctionCleanPrice</th>\n",
       "      <td>0.990347</td>\n",
       "      <td>1.000000</td>\n",
       "      <td>0.902718</td>\n",
       "      <td>0.918242</td>\n",
       "      <td>0.923610</td>\n",
       "      <td>0.932114</td>\n",
       "      <td>0.860716</td>\n",
       "    </tr>\n",
       "    <tr>\n",
       "      <th>MMRAcquisitionRetailAveragePrice</th>\n",
       "      <td>0.910391</td>\n",
       "      <td>0.902718</td>\n",
       "      <td>1.000000</td>\n",
       "      <td>0.990201</td>\n",
       "      <td>0.851647</td>\n",
       "      <td>0.849407</td>\n",
       "      <td>0.913108</td>\n",
       "    </tr>\n",
       "    <tr>\n",
       "      <th>MMRAcquisitonRetailCleanPrice</th>\n",
       "      <td>0.910187</td>\n",
       "      <td>0.918242</td>\n",
       "      <td>0.990201</td>\n",
       "      <td>1.000000</td>\n",
       "      <td>0.846914</td>\n",
       "      <td>0.855689</td>\n",
       "      <td>0.903188</td>\n",
       "    </tr>\n",
       "    <tr>\n",
       "      <th>MMRCurrentAuctionAveragePrice</th>\n",
       "      <td>0.937817</td>\n",
       "      <td>0.923610</td>\n",
       "      <td>0.851647</td>\n",
       "      <td>0.846914</td>\n",
       "      <td>1.000000</td>\n",
       "      <td>0.990329</td>\n",
       "      <td>0.915073</td>\n",
       "    </tr>\n",
       "    <tr>\n",
       "      <th>MMRCurrentAuctionCleanPrice</th>\n",
       "      <td>0.932492</td>\n",
       "      <td>0.932114</td>\n",
       "      <td>0.849407</td>\n",
       "      <td>0.855689</td>\n",
       "      <td>0.990329</td>\n",
       "      <td>1.000000</td>\n",
       "      <td>0.908669</td>\n",
       "    </tr>\n",
       "    <tr>\n",
       "      <th>MMRCurrentRetailAveragePrice</th>\n",
       "      <td>0.871755</td>\n",
       "      <td>0.860716</td>\n",
       "      <td>0.913108</td>\n",
       "      <td>0.903188</td>\n",
       "      <td>0.915073</td>\n",
       "      <td>0.908669</td>\n",
       "      <td>1.000000</td>\n",
       "    </tr>\n",
       "  </tbody>\n",
       "</table>\n",
       "</div>"
      ],
      "text/plain": [
       "                                   MMRAcquisitionAuctionAveragePrice  \\\n",
       "MMRAcquisitionAuctionAveragePrice                           1.000000   \n",
       "MMRAcquisitionAuctionCleanPrice                             0.990347   \n",
       "MMRAcquisitionRetailAveragePrice                            0.910391   \n",
       "MMRAcquisitonRetailCleanPrice                               0.910187   \n",
       "MMRCurrentAuctionAveragePrice                               0.937817   \n",
       "MMRCurrentAuctionCleanPrice                                 0.932492   \n",
       "MMRCurrentRetailAveragePrice                                0.871755   \n",
       "\n",
       "                                   MMRAcquisitionAuctionCleanPrice  \\\n",
       "MMRAcquisitionAuctionAveragePrice                         0.990347   \n",
       "MMRAcquisitionAuctionCleanPrice                           1.000000   \n",
       "MMRAcquisitionRetailAveragePrice                          0.902718   \n",
       "MMRAcquisitonRetailCleanPrice                             0.918242   \n",
       "MMRCurrentAuctionAveragePrice                             0.923610   \n",
       "MMRCurrentAuctionCleanPrice                               0.932114   \n",
       "MMRCurrentRetailAveragePrice                              0.860716   \n",
       "\n",
       "                                   MMRAcquisitionRetailAveragePrice  \\\n",
       "MMRAcquisitionAuctionAveragePrice                          0.910391   \n",
       "MMRAcquisitionAuctionCleanPrice                            0.902718   \n",
       "MMRAcquisitionRetailAveragePrice                           1.000000   \n",
       "MMRAcquisitonRetailCleanPrice                              0.990201   \n",
       "MMRCurrentAuctionAveragePrice                              0.851647   \n",
       "MMRCurrentAuctionCleanPrice                                0.849407   \n",
       "MMRCurrentRetailAveragePrice                               0.913108   \n",
       "\n",
       "                                   MMRAcquisitonRetailCleanPrice  \\\n",
       "MMRAcquisitionAuctionAveragePrice                       0.910187   \n",
       "MMRAcquisitionAuctionCleanPrice                         0.918242   \n",
       "MMRAcquisitionRetailAveragePrice                        0.990201   \n",
       "MMRAcquisitonRetailCleanPrice                           1.000000   \n",
       "MMRCurrentAuctionAveragePrice                           0.846914   \n",
       "MMRCurrentAuctionCleanPrice                             0.855689   \n",
       "MMRCurrentRetailAveragePrice                            0.903188   \n",
       "\n",
       "                                   MMRCurrentAuctionAveragePrice  \\\n",
       "MMRAcquisitionAuctionAveragePrice                       0.937817   \n",
       "MMRAcquisitionAuctionCleanPrice                         0.923610   \n",
       "MMRAcquisitionRetailAveragePrice                        0.851647   \n",
       "MMRAcquisitonRetailCleanPrice                           0.846914   \n",
       "MMRCurrentAuctionAveragePrice                           1.000000   \n",
       "MMRCurrentAuctionCleanPrice                             0.990329   \n",
       "MMRCurrentRetailAveragePrice                            0.915073   \n",
       "\n",
       "                                   MMRCurrentAuctionCleanPrice  \\\n",
       "MMRAcquisitionAuctionAveragePrice                     0.932492   \n",
       "MMRAcquisitionAuctionCleanPrice                       0.932114   \n",
       "MMRAcquisitionRetailAveragePrice                      0.849407   \n",
       "MMRAcquisitonRetailCleanPrice                         0.855689   \n",
       "MMRCurrentAuctionAveragePrice                         0.990329   \n",
       "MMRCurrentAuctionCleanPrice                           1.000000   \n",
       "MMRCurrentRetailAveragePrice                          0.908669   \n",
       "\n",
       "                                   MMRCurrentRetailAveragePrice  \n",
       "MMRAcquisitionAuctionAveragePrice                      0.871755  \n",
       "MMRAcquisitionAuctionCleanPrice                        0.860716  \n",
       "MMRAcquisitionRetailAveragePrice                       0.913108  \n",
       "MMRAcquisitonRetailCleanPrice                          0.903188  \n",
       "MMRCurrentAuctionAveragePrice                          0.915073  \n",
       "MMRCurrentAuctionCleanPrice                            0.908669  \n",
       "MMRCurrentRetailAveragePrice                           1.000000  "
      ]
     },
     "execution_count": 47,
     "metadata": {},
     "output_type": "execute_result"
    }
   ],
   "source": [
    "train[['MMRAcquisitionAuctionAveragePrice',\n",
    "       'MMRAcquisitionAuctionCleanPrice', 'MMRAcquisitionRetailAveragePrice',\n",
    "       'MMRAcquisitonRetailCleanPrice', 'MMRCurrentAuctionAveragePrice',\n",
    "       'MMRCurrentAuctionCleanPrice', 'MMRCurrentRetailAveragePrice']].corr()"
   ]
  },
  {
   "cell_type": "markdown",
   "id": "8f8da14b",
   "metadata": {},
   "source": [
    "_All these \"MMR...\" features are highly correlated between each other, so I decided to replace them with only one called \"PriceDiff\"._"
   ]
  },
  {
   "cell_type": "code",
   "execution_count": 6,
   "id": "057d12fe",
   "metadata": {},
   "outputs": [],
   "source": [
    "train[\"PriceDiff\"] = train[\"VehBCost\"] - train[\"MMRAcquisitionAuctionAveragePrice\"]"
   ]
  },
  {
   "cell_type": "code",
   "execution_count": 48,
   "id": "c21072c6",
   "metadata": {},
   "outputs": [
    {
     "name": "stderr",
     "output_type": "stream",
     "text": [
      "C:\\Users\\getto\\anaconda3\\lib\\site-packages\\seaborn\\categorical.py:3717: UserWarning: The `factorplot` function has been renamed to `catplot`. The original name will be removed in a future release. Please update your code. Note that the default `kind` in `factorplot` (`'point'`) has changed `'strip'` in `catplot`.\n",
      "  warnings.warn(msg)\n",
      "C:\\Users\\getto\\anaconda3\\lib\\site-packages\\seaborn\\categorical.py:3723: UserWarning: The `size` parameter has been renamed to `height`; please update your code.\n",
      "  warnings.warn(msg, UserWarning)\n"
     ]
    },
    {
     "data": {
      "image/png": "[encoded data removed]",
      "text/plain": [
       "<Figure size 1152x1152 with 1 Axes>"
      ]
     },
     "metadata": {
      "needs_background": "light"
     },
     "output_type": "display_data"
    }
   ],
   "source": [
    "g = sns.factorplot(x=\"Size\",y=\"IsBadBuy\", data=train, kind=\"bar\", size = 16 , \n",
    "palette = \"muted\")"
   ]
  },
  {
   "cell_type": "code",
   "execution_count": 8,
   "id": "a7b943c1",
   "metadata": {},
   "outputs": [
    {
     "name": "stderr",
     "output_type": "stream",
     "text": [
      "C:\\Users\\getto\\anaconda3\\lib\\site-packages\\seaborn\\categorical.py:3717: UserWarning: The `factorplot` function has been renamed to `catplot`. The original name will be removed in a future release. Please update your code. Note that the default `kind` in `factorplot` (`'point'`) has changed `'strip'` in `catplot`.\n",
      "  warnings.warn(msg)\n",
      "C:\\Users\\getto\\anaconda3\\lib\\site-packages\\seaborn\\categorical.py:3723: UserWarning: The `size` parameter has been renamed to `height`; please update your code.\n",
      "  warnings.warn(msg, UserWarning)\n"
     ]
    },
    {
     "data": {
      "image/png": "[encoded data removed]",
      "text/plain": [
       "<Figure size 1152x1152 with 1 Axes>"
      ]
     },
     "metadata": {
      "needs_background": "light"
     },
     "output_type": "display_data"
    }
   ],
   "source": [
    "g = sns.factorplot(x=\"Color\",y=\"IsBadBuy\", data=train, kind=\"bar\", size = 16 , \n",
    "palette = \"muted\")"
   ]
  },
  {
   "cell_type": "markdown",
   "id": "f155eb04",
   "metadata": {},
   "source": [
    "_Some of the categorical features I decided to drop because of their's high variery of unique values (Model, SubModel, VNZIP1), the others have too much NaN values (AUCGUART, PRIMEUNIT have ~69500 of these).\n",
    "I've tried different sets of features (with/without Color, different combinations of \"MMR...\" features), but the set below showed the best result._"
   ]
  },
  {
   "cell_type": "code",
   "execution_count": 9,
   "id": "efd4d333",
   "metadata": {},
   "outputs": [],
   "source": [
    "train = train.drop(columns = [\"RefId\", \"PurchDate\", \"VehYear\", \"Nationality\", \"WheelTypeID\", \"Trim\",\n",
    "                     \"SubModel\",'Model', \"PRIMEUNIT\", \"BYRNO\", 'VNZIP1', 'VNST', \"AUCGUART\", 'MMRAcquisitionAuctionAveragePrice',\n",
    "       'MMRAcquisitionAuctionCleanPrice', 'MMRAcquisitionRetailAveragePrice',\n",
    "       'MMRAcquisitonRetailCleanPrice', 'MMRCurrentAuctionAveragePrice',\n",
    "       'MMRCurrentAuctionCleanPrice', 'MMRCurrentRetailAveragePrice',\n",
    "       'MMRCurrentRetailCleanPrice', 'Color'])\n",
    "train[\"Transmission\"] = train[\"Transmission\"].replace(to_replace = \"Manual\", value = \"MANUAL\")\n",
    "train[\"Size\"] = train[\"Size\"].fillna(\"MEDIUM\")\n",
    "train[\"Transmission\"] = train[\"Transmission\"].fillna(\"AUTO\")\n",
    "train[\"TopThreeAmericanName\"] = train[\"TopThreeAmericanName\"].fillna(\"OTHER\")\n",
    "train = pd.get_dummies(train,prefix=['Auction', \"Transmission\", \"Make\", \"WheelType\", \"Size\", \"TopThreeAmericanName\"], columns = ['Auction', \"Transmission\", \"Make\", \"WheelType\", \"Size\", \"TopThreeAmericanName\"])"
   ]
  },
  {
   "cell_type": "code",
   "execution_count": 11,
   "id": "570b720f",
   "metadata": {},
   "outputs": [],
   "source": [
    "train = train.dropna()"
   ]
  },
  {
   "cell_type": "markdown",
   "id": "54fa6529",
   "metadata": {},
   "source": [
    "## RandomForestClassifier"
   ]
  },
  {
   "cell_type": "code",
   "execution_count": 12,
   "id": "0cb843f4",
   "metadata": {},
   "outputs": [],
   "source": [
    "X, X_val, y, y_val = train_test_split(\n",
    "    train.drop(columns=['IsBadBuy']), train[\"IsBadBuy\"], test_size=0.25)"
   ]
  },
  {
   "cell_type": "code",
   "execution_count": 13,
   "id": "78947175",
   "metadata": {},
   "outputs": [
    {
     "name": "stdout",
     "output_type": "stream",
     "text": [
      "{'max_depth': 3, 'n_estimators': 1}\n"
     ]
    }
   ],
   "source": [
    "param_grid = {\n",
    "    'max_depth': range(1, 7),\n",
    "    'n_estimators': range(1, 101, 5)\n",
    "}\n",
    "\n",
    "rfc = RandomForestClassifier()\n",
    "CV_rfc = GridSearchCV(estimator=rfc, param_grid=param_grid, cv= 5)\n",
    "CV_rfc.fit(X, y)\n",
    "print(CV_rfc.best_params_)"
   ]
  },
  {
   "cell_type": "code",
   "execution_count": 14,
   "id": "a1335851",
   "metadata": {},
   "outputs": [
    {
     "name": "stdout",
     "output_type": "stream",
     "text": [
      "Accuracy score for RandomForest:  0.8785769104264883\n",
      "Recall score for RandomForest:  0.0\n",
      "F1 score for RandomForest 0.0\n"
     ]
    }
   ],
   "source": [
    "print(\"Accuracy score for RandomForest: \", accuracy_score(y_val, CV_rfc.predict(X_val)))\n",
    "print(\"Recall score for RandomForest: \", recall_score(y_val, CV_rfc.predict(X_val)))\n",
    "print(\"F1 score for RandomForest\", f1_score(y_val, CV_rfc.predict(X_val)))"
   ]
  },
  {
   "cell_type": "code",
   "execution_count": 15,
   "id": "d006fc47",
   "metadata": {
    "scrolled": true
   },
   "outputs": [
    {
     "data": {
      "text/plain": [
       "<sklearn.metrics._plot.confusion_matrix.ConfusionMatrixDisplay at 0x2593409ea00>"
      ]
     },
     "execution_count": 15,
     "metadata": {},
     "output_type": "execute_result"
    },
    {
     "data": {
      "image/png": "[encoded data removed]",
      "text/plain": [
       "<Figure size 432x288 with 2 Axes>"
      ]
     },
     "metadata": {
      "needs_background": "light"
     },
     "output_type": "display_data"
    }
   ],
   "source": [
    "matrix = confusion_matrix(y_val, CV_rfc.predict(X_val))\n",
    "disp = ConfusionMatrixDisplay(matrix)\n",
    "disp.plot()"
   ]
  },
  {
   "cell_type": "markdown",
   "id": "8999835d",
   "metadata": {},
   "source": [
    "_Although this model shows decent accuracy, it has zero recall and f1 score. This happened because this dataset is imbalanced (~88% of purchases are marked as good, target value is 0)._"
   ]
  },
  {
   "cell_type": "markdown",
   "id": "eecde316",
   "metadata": {},
   "source": [
    "## DecisionTreeClassifier"
   ]
  },
  {
   "cell_type": "code",
   "execution_count": 16,
   "id": "d81d871a",
   "metadata": {},
   "outputs": [
    {
     "name": "stdout",
     "output_type": "stream",
     "text": [
      "{'max_depth': 5}\n"
     ]
    }
   ],
   "source": [
    "param_grid = {\n",
    "    'max_depth': range(1, 15),\n",
    "}\n",
    "\n",
    "tree = DecisionTreeClassifier()\n",
    "CV_tree = GridSearchCV(estimator=tree, param_grid=param_grid, cv= 5)\n",
    "CV_tree.fit(X, y)\n",
    "print(CV_tree.best_params_)"
   ]
  },
  {
   "cell_type": "code",
   "execution_count": 17,
   "id": "0fb93ac0",
   "metadata": {},
   "outputs": [
    {
     "name": "stdout",
     "output_type": "stream",
     "text": [
      "Accuracy score for DecisionTree:  0.897544128933231\n",
      "Recall score for DecisionTree:  0.20857787810383746\n",
      "F1 score for DecisionTree 0.3308270676691729\n"
     ]
    }
   ],
   "source": [
    "print(\"Accuracy score for DecisionTree: \", accuracy_score(y_val, CV_tree.predict(X_val)))\n",
    "print(\"Recall score for DecisionTree: \", recall_score(y_val, CV_tree.predict(X_val)))\n",
    "print(\"F1 score for DecisionTree\", f1_score(y_val, CV_tree.predict(X_val)))"
   ]
  },
  {
   "cell_type": "code",
   "execution_count": 18,
   "id": "f7391f34",
   "metadata": {},
   "outputs": [
    {
     "data": {
      "text/plain": [
       "<sklearn.metrics._plot.confusion_matrix.ConfusionMatrixDisplay at 0x2592e4ae5b0>"
      ]
     },
     "execution_count": 18,
     "metadata": {},
     "output_type": "execute_result"
    },
    {
     "data": {
      "image/png": "[encoded data removed]",
      "text/plain": [
       "<Figure size 432x288 with 2 Axes>"
      ]
     },
     "metadata": {
      "needs_background": "light"
     },
     "output_type": "display_data"
    }
   ],
   "source": [
    "matrix = confusion_matrix(y_val, CV_tree.predict(X_val))\n",
    "disp = ConfusionMatrixDisplay(matrix)\n",
    "disp.plot()"
   ]
  },
  {
   "cell_type": "markdown",
   "id": "d23e54cc",
   "metadata": {},
   "source": [
    "## GradientBoostingClassifier"
   ]
  },
  {
   "cell_type": "code",
   "execution_count": 19,
   "id": "1fe393fd",
   "metadata": {},
   "outputs": [
    {
     "name": "stdout",
     "output_type": "stream",
     "text": [
      "{'learning_rate': 0.15, 'n_estimators': 100}\n"
     ]
    }
   ],
   "source": [
    "param_grid = {\n",
    "    'n_estimators': range(60, 101, 10),\n",
    "    \"learning_rate\": [0.1, 0.15],\n",
    "}\n",
    "\n",
    "boost = GradientBoostingClassifier()\n",
    "CV_boost = GridSearchCV(estimator=boost, param_grid=param_grid, cv= 5)\n",
    "CV_boost.fit(X, y)\n",
    "print(CV_boost.best_params_)"
   ]
  },
  {
   "cell_type": "code",
   "execution_count": 20,
   "id": "346d49a7",
   "metadata": {},
   "outputs": [
    {
     "name": "stdout",
     "output_type": "stream",
     "text": [
      "Accuracy score for GradientBoosting:  0.8961188466176955\n",
      "Recall score for GradientBoosting:  0.21986455981941308\n",
      "F1 score for GradientBoosting 0.33949111188567443\n"
     ]
    }
   ],
   "source": [
    "print(\"Accuracy score for GradientBoosting: \", accuracy_score(y_val, CV_boost.predict(X_val)))\n",
    "print(\"Recall score for GradientBoosting: \", recall_score(y_val, CV_boost.predict(X_val)))\n",
    "print(\"F1 score for GradientBoosting\", f1_score(y_val, CV_boost.predict(X_val)))"
   ]
  },
  {
   "cell_type": "code",
   "execution_count": 21,
   "id": "610ef1f9",
   "metadata": {},
   "outputs": [
    {
     "data": {
      "text/plain": [
       "<sklearn.metrics._plot.confusion_matrix.ConfusionMatrixDisplay at 0x259345c1340>"
      ]
     },
     "execution_count": 21,
     "metadata": {},
     "output_type": "execute_result"
    },
    {
     "data": {
      "image/png": "[encoded data removed]",
      "text/plain": [
       "<Figure size 432x288 with 2 Axes>"
      ]
     },
     "metadata": {
      "needs_background": "light"
     },
     "output_type": "display_data"
    }
   ],
   "source": [
    "matrix = confusion_matrix(y_val, CV_boost.predict(X_val))\n",
    "disp = ConfusionMatrixDisplay(matrix)\n",
    "disp.plot()"
   ]
  },
  {
   "cell_type": "markdown",
   "id": "63d45105",
   "metadata": {},
   "source": [
    "_DicisionTree and GradientBossting showed better result, but thet still have quite low recall and f1 scores. I decided to use oversampling method to balance the data. After oversamling the amount of 0 and 1 target values became equal._"
   ]
  },
  {
   "cell_type": "markdown",
   "id": "d68e72da",
   "metadata": {},
   "source": [
    "## Using Oversampling method to deal with imbalanced data"
   ]
  },
  {
   "cell_type": "code",
   "execution_count": 22,
   "id": "c37506db",
   "metadata": {},
   "outputs": [],
   "source": [
    "oversample = RandomOverSampler(sampling_strategy='minority')"
   ]
  },
  {
   "cell_type": "code",
   "execution_count": 23,
   "id": "d636dfc1",
   "metadata": {},
   "outputs": [],
   "source": [
    "X_over, y_over = oversample.fit_resample(X, y)"
   ]
  },
  {
   "cell_type": "code",
   "execution_count": 24,
   "id": "16049135",
   "metadata": {},
   "outputs": [
    {
     "data": {
      "text/html": [
       "<style>#sk-container-id-1 {color: black;background-color: white;}#sk-container-id-1 pre{padding: 0;}#sk-container-id-1 div.sk-toggleable {background-color: white;}#sk-container-id-1 label.sk-toggleable__label {cursor: pointer;display: block;width: 100%;margin-bottom: 0;padding: 0.3em;box-sizing: border-box;text-align: center;}#sk-container-id-1 label.sk-toggleable__label-arrow:before {content: \"▸\";float: left;margin-right: 0.25em;color: #696969;}#sk-container-id-1 label.sk-toggleable__label-arrow:hover:before {color: black;}#sk-container-id-1 div.sk-estimator:hover label.sk-toggleable__label-arrow:before {color: black;}#sk-container-id-1 div.sk-toggleable__content {max-height: 0;max-width: 0;overflow: hidden;text-align: left;background-color: #f0f8ff;}#sk-container-id-1 div.sk-toggleable__content pre {margin: 0.2em;color: black;border-radius: 0.25em;background-color: #f0f8ff;}#sk-container-id-1 input.sk-toggleable__control:checked~div.sk-toggleable__content {max-height: 200px;max-width: 100%;overflow: auto;}#sk-container-id-1 input.sk-toggleable__control:checked~label.sk-toggleable__label-arrow:before {content: \"▾\";}#sk-container-id-1 div.sk-estimator input.sk-toggleable__control:checked~label.sk-toggleable__label {background-color: #d4ebff;}#sk-container-id-1 div.sk-label input.sk-toggleable__control:checked~label.sk-toggleable__label {background-color: #d4ebff;}#sk-container-id-1 input.sk-hidden--visually {border: 0;clip: rect(1px 1px 1px 1px);clip: rect(1px, 1px, 1px, 1px);height: 1px;margin: -1px;overflow: hidden;padding: 0;position: absolute;width: 1px;}#sk-container-id-1 div.sk-estimator {font-family: monospace;background-color: #f0f8ff;border: 1px dotted black;border-radius: 0.25em;box-sizing: border-box;margin-bottom: 0.5em;}#sk-container-id-1 div.sk-estimator:hover {background-color: #d4ebff;}#sk-container-id-1 div.sk-parallel-item::after {content: \"\";width: 100%;border-bottom: 1px solid gray;flex-grow: 1;}#sk-container-id-1 div.sk-label:hover label.sk-toggleable__label {background-color: #d4ebff;}#sk-container-id-1 div.sk-serial::before {content: \"\";position: absolute;border-left: 1px solid gray;box-sizing: border-box;top: 0;bottom: 0;left: 50%;z-index: 0;}#sk-container-id-1 div.sk-serial {display: flex;flex-direction: column;align-items: center;background-color: white;padding-right: 0.2em;padding-left: 0.2em;position: relative;}#sk-container-id-1 div.sk-item {position: relative;z-index: 1;}#sk-container-id-1 div.sk-parallel {display: flex;align-items: stretch;justify-content: center;background-color: white;position: relative;}#sk-container-id-1 div.sk-item::before, #sk-container-id-1 div.sk-parallel-item::before {content: \"\";position: absolute;border-left: 1px solid gray;box-sizing: border-box;top: 0;bottom: 0;left: 50%;z-index: -1;}#sk-container-id-1 div.sk-parallel-item {display: flex;flex-direction: column;z-index: 1;position: relative;background-color: white;}#sk-container-id-1 div.sk-parallel-item:first-child::after {align-self: flex-end;width: 50%;}#sk-container-id-1 div.sk-parallel-item:last-child::after {align-self: flex-start;width: 50%;}#sk-container-id-1 div.sk-parallel-item:only-child::after {width: 0;}#sk-container-id-1 div.sk-dashed-wrapped {border: 1px dashed gray;margin: 0 0.4em 0.5em 0.4em;box-sizing: border-box;padding-bottom: 0.4em;background-color: white;}#sk-container-id-1 div.sk-label label {font-family: monospace;font-weight: bold;display: inline-block;line-height: 1.2em;}#sk-container-id-1 div.sk-label-container {text-align: center;}#sk-container-id-1 div.sk-container {/* jupyter's `normalize.less` sets `[hidden] { display: none; }` but bootstrap.min.css set `[hidden] { display: none !important; }` so we also need the `!important` here to be able to override the default hidden behavior on the sphinx rendered scikit-learn.org. See: https://github.com/scikit-learn/scikit-learn/issues/21755 */display: inline-block !important;position: relative;}#sk-container-id-1 div.sk-text-repr-fallback {display: none;}</style><div id=\"sk-container-id-1\" class=\"sk-top-container\"><div class=\"sk-text-repr-fallback\"><pre>GridSearchCV(cv=5, estimator=RandomForestClassifier(),\n",
       "             param_grid={&#x27;max_depth&#x27;: range(3, 10),\n",
       "                         &#x27;n_estimators&#x27;: range(20, 71, 10)})</pre><b>In a Jupyter environment, please rerun this cell to show the HTML representation or trust the notebook. <br />On GitHub, the HTML representation is unable to render, please try loading this page with nbviewer.org.</b></div><div class=\"sk-container\" hidden><div class=\"sk-item sk-dashed-wrapped\"><div class=\"sk-label-container\"><div class=\"sk-label sk-toggleable\"><input class=\"sk-toggleable__control sk-hidden--visually\" id=\"sk-estimator-id-1\" type=\"checkbox\" ><label for=\"sk-estimator-id-1\" class=\"sk-toggleable__label sk-toggleable__label-arrow\">GridSearchCV</label><div class=\"sk-toggleable__content\"><pre>GridSearchCV(cv=5, estimator=RandomForestClassifier(),\n",
       "             param_grid={&#x27;max_depth&#x27;: range(3, 10),\n",
       "                         &#x27;n_estimators&#x27;: range(20, 71, 10)})</pre></div></div></div><div class=\"sk-parallel\"><div class=\"sk-parallel-item\"><div class=\"sk-item\"><div class=\"sk-label-container\"><div class=\"sk-label sk-toggleable\"><input class=\"sk-toggleable__control sk-hidden--visually\" id=\"sk-estimator-id-2\" type=\"checkbox\" ><label for=\"sk-estimator-id-2\" class=\"sk-toggleable__label sk-toggleable__label-arrow\">estimator: RandomForestClassifier</label><div class=\"sk-toggleable__content\"><pre>RandomForestClassifier()</pre></div></div></div><div class=\"sk-serial\"><div class=\"sk-item\"><div class=\"sk-estimator sk-toggleable\"><input class=\"sk-toggleable__control sk-hidden--visually\" id=\"sk-estimator-id-3\" type=\"checkbox\" ><label for=\"sk-estimator-id-3\" class=\"sk-toggleable__label sk-toggleable__label-arrow\">RandomForestClassifier</label><div class=\"sk-toggleable__content\"><pre>RandomForestClassifier()</pre></div></div></div></div></div></div></div></div></div></div>"
      ],
      "text/plain": [
       "GridSearchCV(cv=5, estimator=RandomForestClassifier(),\n",
       "             param_grid={'max_depth': range(3, 10),\n",
       "                         'n_estimators': range(20, 71, 10)})"
      ]
     },
     "execution_count": 24,
     "metadata": {},
     "output_type": "execute_result"
    }
   ],
   "source": [
    "param_grid = {\n",
    "    'max_depth': range(3, 10),\n",
    "    'n_estimators': range(20, 71, 10)\n",
    "}\n",
    "\n",
    "rfc = RandomForestClassifier()\n",
    "CV_rfc_over = GridSearchCV(estimator=rfc, param_grid=param_grid, cv= 5)\n",
    "CV_rfc_over.fit(X_over, y_over)"
   ]
  },
  {
   "cell_type": "code",
   "execution_count": 25,
   "id": "ed485416",
   "metadata": {},
   "outputs": [
    {
     "name": "stdout",
     "output_type": "stream",
     "text": [
      "{'max_depth': 9, 'n_estimators': 60}\n",
      "Accuracy score for RandomForest:  0.7103935971932902\n",
      "Recall score for RandomForest:  0.61941309255079\n",
      "F1 score for RandomForest 0.341846268842656\n"
     ]
    }
   ],
   "source": [
    "print(CV_rfc_over.best_params_)\n",
    "print(\"Accuracy score for RandomForest: \", accuracy_score(y_val, CV_rfc_over.predict(X_val)))\n",
    "print(\"Recall score for RandomForest: \", recall_score(y_val, CV_rfc_over.predict(X_val)))\n",
    "print(\"F1 score for RandomForest\", f1_score(y_val, CV_rfc_over.predict(X_val)))"
   ]
  },
  {
   "cell_type": "code",
   "execution_count": 26,
   "id": "74eeec84",
   "metadata": {},
   "outputs": [
    {
     "data": {
      "text/plain": [
       "<sklearn.metrics._plot.confusion_matrix.ConfusionMatrixDisplay at 0x259349cad60>"
      ]
     },
     "execution_count": 26,
     "metadata": {},
     "output_type": "execute_result"
    },
    {
     "data": {
      "image/png": "[encoded data removed]",
      "text/plain": [
       "<Figure size 432x288 with 2 Axes>"
      ]
     },
     "metadata": {
      "needs_background": "light"
     },
     "output_type": "display_data"
    }
   ],
   "source": [
    "matrix = confusion_matrix(y_val, CV_rfc_over.predict(X_val))\n",
    "disp = ConfusionMatrixDisplay(matrix)\n",
    "disp.plot()"
   ]
  },
  {
   "cell_type": "code",
   "execution_count": 27,
   "id": "bb21f6c4",
   "metadata": {},
   "outputs": [
    {
     "name": "stdout",
     "output_type": "stream",
     "text": [
      "{'max_depth': 14}\n"
     ]
    }
   ],
   "source": [
    "param_grid = {\n",
    "    'max_depth': range(1, 15),\n",
    "}\n",
    "\n",
    "tree = DecisionTreeClassifier()\n",
    "CV_tree_over = GridSearchCV(estimator=tree, param_grid=param_grid, cv= 5)\n",
    "CV_tree_over.fit(X_over, y_over)\n",
    "print(CV_tree_over.best_params_)"
   ]
  },
  {
   "cell_type": "code",
   "execution_count": 28,
   "id": "6f3cb5a0",
   "metadata": {},
   "outputs": [
    {
     "name": "stdout",
     "output_type": "stream",
     "text": [
      "Accuracy score for DecisionTree:  0.7287578116434601\n",
      "Recall score for DecisionTree:  0.5079006772009029\n",
      "F1 score for DecisionTree 0.3125868296749097\n"
     ]
    }
   ],
   "source": [
    "print(\"Accuracy score for DecisionTree: \", accuracy_score(y_val, CV_tree_over.predict(X_val)))\n",
    "print(\"Recall score for DecisionTree: \", recall_score(y_val, CV_tree_over.predict(X_val)))\n",
    "print(\"F1 score for DecisionTree\", f1_score(y_val, CV_tree_over.predict(X_val)))"
   ]
  },
  {
   "cell_type": "code",
   "execution_count": 29,
   "id": "7c62adab",
   "metadata": {},
   "outputs": [
    {
     "data": {
      "text/plain": [
       "<sklearn.metrics._plot.confusion_matrix.ConfusionMatrixDisplay at 0x2593452e9a0>"
      ]
     },
     "execution_count": 29,
     "metadata": {},
     "output_type": "execute_result"
    },
    {
     "data": {
      "image/png": "[encoded data removed]",
      "text/plain": [
       "<Figure size 432x288 with 2 Axes>"
      ]
     },
     "metadata": {
      "needs_background": "light"
     },
     "output_type": "display_data"
    }
   ],
   "source": [
    "matrix = confusion_matrix(y_val, CV_tree_over.predict(X_val))\n",
    "disp = ConfusionMatrixDisplay(matrix)\n",
    "disp.plot()"
   ]
  },
  {
   "cell_type": "code",
   "execution_count": 30,
   "id": "b2f6ed56",
   "metadata": {},
   "outputs": [
    {
     "name": "stdout",
     "output_type": "stream",
     "text": [
      "{'learning_rate': 0.15, 'n_estimators': 100}\n"
     ]
    }
   ],
   "source": [
    "param_grid = {\n",
    "    'n_estimators': range(60, 101, 10),\n",
    "    \"learning_rate\": [0.1, 0.15],\n",
    "}\n",
    "\n",
    "boost = GradientBoostingClassifier()\n",
    "CV_boost_over = GridSearchCV(estimator=boost, param_grid=param_grid, cv= 5)\n",
    "CV_boost_over.fit(X_over, y_over)\n",
    "print(CV_boost.best_params_)"
   ]
  },
  {
   "cell_type": "code",
   "execution_count": 31,
   "id": "e4fc0ab6",
   "metadata": {},
   "outputs": [
    {
     "name": "stdout",
     "output_type": "stream",
     "text": [
      "Accuracy score for GradientBoosting:  0.7477250301502029\n",
      "Recall score for GradientBoosting:  0.5837471783295711\n",
      "F1 score for GradientBoosting 0.3597662771285476\n"
     ]
    }
   ],
   "source": [
    "print(\"Accuracy score for GradientBoosting: \", accuracy_score(y_val, CV_boost_over.predict(X_val)))\n",
    "print(\"Recall score for GradientBoosting: \", recall_score(y_val, CV_boost_over.predict(X_val)))\n",
    "print(\"F1 score for GradientBoosting\", f1_score(y_val, CV_boost_over.predict(X_val)))"
   ]
  },
  {
   "cell_type": "code",
   "execution_count": 32,
   "id": "10325d6e",
   "metadata": {},
   "outputs": [
    {
     "data": {
      "text/plain": [
       "<sklearn.metrics._plot.confusion_matrix.ConfusionMatrixDisplay at 0x25934f6fa60>"
      ]
     },
     "execution_count": 32,
     "metadata": {},
     "output_type": "execute_result"
    },
    {
     "data": {
      "image/png": "[encoded data removed]",
      "text/plain": [
       "<Figure size 432x288 with 2 Axes>"
      ]
     },
     "metadata": {
      "needs_background": "light"
     },
     "output_type": "display_data"
    }
   ],
   "source": [
    "matrix = confusion_matrix(y_val, CV_boost_over.predict(X_val))\n",
    "disp = ConfusionMatrixDisplay(matrix)\n",
    "disp.plot()"
   ]
  },
  {
   "cell_type": "markdown",
   "id": "e324e15e",
   "metadata": {},
   "source": [
    "_After oversamling all models showed lower accuracy, but much higher recall and f1 scores, that's why I decided to make final predictions on the test set using GradientBoostingClassifier, which was fitted on oversampled dataset._"
   ]
  },
  {
   "cell_type": "markdown",
   "id": "89553c57",
   "metadata": {},
   "source": [
    "## Preparing test set for submission on Kaggle"
   ]
  },
  {
   "cell_type": "code",
   "execution_count": 33,
   "id": "f14f2e11",
   "metadata": {},
   "outputs": [],
   "source": [
    "ref_id = test[\"RefId\"]\n",
    "test = test.drop(columns = [\"RefId\", \"PurchDate\", \"VehYear\", \"Nationality\", \"WheelTypeID\", \"Trim\",\n",
    "                     \"SubModel\", \"Color\",'Model', \"PRIMEUNIT\", \"BYRNO\", 'VNZIP1', 'VNST', \"AUCGUART\", 'MMRAcquisitionAuctionAveragePrice',\n",
    "       'MMRAcquisitionAuctionCleanPrice', 'MMRAcquisitionRetailAveragePrice',\n",
    "       'MMRAcquisitonRetailCleanPrice', 'MMRCurrentAuctionAveragePrice',\n",
    "       'MMRCurrentAuctionCleanPrice', 'MMRCurrentRetailAveragePrice',\n",
    "       'MMRCurrentRetailCleanPrice'])\n",
    "test[\"Transmission\"] = test[\"Transmission\"].replace(to_replace = \"Manual\", value = \"MANUAL\")\n",
    "test[\"Size\"] = test[\"Size\"].fillna(\"MEDIUM\")\n",
    "test[\"Transmission\"] = test[\"Transmission\"].fillna(\"AUTO\")\n",
    "test[\"TopThreeAmericanName\"] = test[\"TopThreeAmericanName\"].fillna(\"OTHER\")\n",
    "test = pd.get_dummies(test,prefix=['Auction', \"Transmission\", \"Make\", \"WheelType\", \"Size\", \"TopThreeAmericanName\"], columns = ['Auction', \"Transmission\", \"Make\", \"WheelType\", \"Size\", \"TopThreeAmericanName\"])"
   ]
  },
  {
   "cell_type": "code",
   "execution_count": 35,
   "id": "415abc12",
   "metadata": {},
   "outputs": [],
   "source": [
    "missing_cols = list(set(X.columns) - set(test))\n",
    "test[[missing_cols]] = 0\n",
    "test = test.reindex(columns = X.columns)"
   ]
  },
  {
   "cell_type": "code",
   "execution_count": 36,
   "id": "111ad5b4",
   "metadata": {},
   "outputs": [],
   "source": [
    "test = test.fillna(test.mean())"
   ]
  },
  {
   "cell_type": "code",
   "execution_count": 37,
   "id": "a3d3d7d3",
   "metadata": {},
   "outputs": [],
   "source": [
    "test_pred = CV_boost_over.predict_proba(test)"
   ]
  },
  {
   "cell_type": "code",
   "execution_count": 39,
   "id": "4303be06",
   "metadata": {},
   "outputs": [],
   "source": [
    "my_submission = pd.DataFrame({'RefId': ref_id, 'IsBadBuy': test_pred[:, 1]})"
   ]
  },
  {
   "cell_type": "code",
   "execution_count": 40,
   "id": "a8bf50a8",
   "metadata": {},
   "outputs": [],
   "source": [
    "my_submission.to_csv(\"dont2.csv\", index=False)"
   ]
  },
  {
   "attachments": {
    "score.PNG": {
     "image/png": "[encoded data removed]"
    }
   },
   "cell_type": "markdown",
   "id": "baa095fa",
   "metadata": {},
   "source": [
    "![score.PNG](attachment:score.PNG)"
   ]
  },
  {
   "cell_type": "markdown",
   "id": "ae553395",
   "metadata": {},
   "source": [
    "_This result would be on ~150th place out of 570 other submissions_"
   ]
  },
  {
   "cell_type": "code",
   "execution_count": null,
   "id": "fc5937b4",
   "metadata": {},
   "outputs": [],
   "source": []
  }
 ],
 "metadata": {
  "kernelspec": {
   "display_name": "Python 3 (ipykernel)",
   "language": "python",
   "name": "python3"
  },
  "language_info": {
   "codemirror_mode": {
    "name": "ipython",
    "version": 3
   },
   "file_extension": ".py",
   "mimetype": "text/x-python",
   "name": "python",
   "nbconvert_exporter": "python",
   "pygments_lexer": "ipython3",
   "version": "3.9.7"
  }
 },
 "nbformat": 4,
 "nbformat_minor": 5
}
